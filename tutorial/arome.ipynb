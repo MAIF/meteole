{
 "cells": [
  {
   "cell_type": "markdown",
   "metadata": {},
   "source": [
    "# AROME"
   ]
  },
  {
   "cell_type": "code",
   "execution_count": 2,
   "metadata": {},
   "outputs": [],
   "source": [
    "import os\n",
    "import random\n",
    "import dotenv\n",
    "from meteole import AromeForecast, raster\n",
    "\n",
    "dotenv.load_dotenv()\n",
    "\n",
    "application_id = os.getenv(\"APPLICATION_ID\")"
   ]
  },
  {
   "cell_type": "code",
   "execution_count": 4,
   "metadata": {},
   "outputs": [
    {
     "name": "stderr",
     "output_type": "stream",
     "text": [
      "Fetching all available coverages...\n",
      "\n",
      "\t Successfully fetched 1870 coverages,\n",
      "\t representing 19 different indicators,\n",
      "\t across the last 34 runs (from 2024-12-07T00.00.00Z to 2024-12-11T03.00.00Z).\n",
      "\n",
      "\t Default run for `get_coverage`: 2024-12-11T03.00.00Z)\n"
     ]
    }
   ],
   "source": [
    "# init client\n",
    "arome = AromeForecast(application_id=application_id)"
   ]
  },
  {
   "cell_type": "code",
   "execution_count": 59,
   "metadata": {},
   "outputs": [
    {
     "name": "stdout",
     "output_type": "stream",
     "text": [
      "Indicator: RELATIVE_HUMIDITY__SPECIFIC_HEIGHT_LEVEL_ABOVE_GROUND\n"
     ]
    }
   ],
   "source": [
    "# pick a random indicator\n",
    "\n",
    "random_indicator = random.choice(arome.indicators)\n",
    "print(f\"Indicator: {random_indicator}\")"
   ]
  },
  {
   "cell_type": "code",
   "execution_count": 60,
   "metadata": {},
   "outputs": [
    {
     "name": "stderr",
     "output_type": "stream",
     "text": [
      "Using latest `run=2024-12-07T00.00.00Z`.\n",
      "Using `heights=[2]` (height above ground)\n"
     ]
    },
    {
     "data": {
      "text/html": [
       "<div>\n",
       "<style scoped>\n",
       "    .dataframe tbody tr th:only-of-type {\n",
       "        vertical-align: middle;\n",
       "    }\n",
       "\n",
       "    .dataframe tbody tr th {\n",
       "        vertical-align: top;\n",
       "    }\n",
       "\n",
       "    .dataframe thead th {\n",
       "        text-align: right;\n",
       "    }\n",
       "</style>\n",
       "<table border=\"1\" class=\"dataframe\">\n",
       "  <thead>\n",
       "    <tr style=\"text-align: right;\">\n",
       "      <th></th>\n",
       "      <th>latitude</th>\n",
       "      <th>longitude</th>\n",
       "      <th>run</th>\n",
       "      <th>forecast_horizon</th>\n",
       "      <th>r2</th>\n",
       "    </tr>\n",
       "  </thead>\n",
       "  <tbody>\n",
       "    <tr>\n",
       "      <th>0</th>\n",
       "      <td>51.08</td>\n",
       "      <td>-5.14</td>\n",
       "      <td>2024-12-07</td>\n",
       "      <td>1 days 10:00:00</td>\n",
       "      <td>66.675995</td>\n",
       "    </tr>\n",
       "    <tr>\n",
       "      <th>1</th>\n",
       "      <td>51.08</td>\n",
       "      <td>-5.13</td>\n",
       "      <td>2024-12-07</td>\n",
       "      <td>1 days 10:00:00</td>\n",
       "      <td>66.769745</td>\n",
       "    </tr>\n",
       "    <tr>\n",
       "      <th>2</th>\n",
       "      <td>51.08</td>\n",
       "      <td>-5.12</td>\n",
       "      <td>2024-12-07</td>\n",
       "      <td>1 days 10:00:00</td>\n",
       "      <td>66.863495</td>\n",
       "    </tr>\n",
       "    <tr>\n",
       "      <th>3</th>\n",
       "      <td>51.08</td>\n",
       "      <td>-5.11</td>\n",
       "      <td>2024-12-07</td>\n",
       "      <td>1 days 10:00:00</td>\n",
       "      <td>66.925995</td>\n",
       "    </tr>\n",
       "    <tr>\n",
       "      <th>4</th>\n",
       "      <td>51.08</td>\n",
       "      <td>-5.10</td>\n",
       "      <td>2024-12-07</td>\n",
       "      <td>1 days 10:00:00</td>\n",
       "      <td>66.957245</td>\n",
       "    </tr>\n",
       "    <tr>\n",
       "      <th>...</th>\n",
       "      <td>...</td>\n",
       "      <td>...</td>\n",
       "      <td>...</td>\n",
       "      <td>...</td>\n",
       "      <td>...</td>\n",
       "    </tr>\n",
       "    <tr>\n",
       "      <th>1434220</th>\n",
       "      <td>41.34</td>\n",
       "      <td>9.52</td>\n",
       "      <td>2024-12-07</td>\n",
       "      <td>1 days 10:00:00</td>\n",
       "      <td>66.644745</td>\n",
       "    </tr>\n",
       "    <tr>\n",
       "      <th>1434221</th>\n",
       "      <td>41.34</td>\n",
       "      <td>9.53</td>\n",
       "      <td>2024-12-07</td>\n",
       "      <td>1 days 10:00:00</td>\n",
       "      <td>66.644745</td>\n",
       "    </tr>\n",
       "    <tr>\n",
       "      <th>1434222</th>\n",
       "      <td>41.34</td>\n",
       "      <td>9.54</td>\n",
       "      <td>2024-12-07</td>\n",
       "      <td>1 days 10:00:00</td>\n",
       "      <td>66.300995</td>\n",
       "    </tr>\n",
       "    <tr>\n",
       "      <th>1434223</th>\n",
       "      <td>41.34</td>\n",
       "      <td>9.55</td>\n",
       "      <td>2024-12-07</td>\n",
       "      <td>1 days 10:00:00</td>\n",
       "      <td>65.894745</td>\n",
       "    </tr>\n",
       "    <tr>\n",
       "      <th>1434224</th>\n",
       "      <td>41.34</td>\n",
       "      <td>9.56</td>\n",
       "      <td>2024-12-07</td>\n",
       "      <td>1 days 10:00:00</td>\n",
       "      <td>65.488495</td>\n",
       "    </tr>\n",
       "  </tbody>\n",
       "</table>\n",
       "<p>1434225 rows × 5 columns</p>\n",
       "</div>"
      ],
      "text/plain": [
       "         latitude  longitude        run forecast_horizon         r2\n",
       "0           51.08      -5.14 2024-12-07  1 days 10:00:00  66.675995\n",
       "1           51.08      -5.13 2024-12-07  1 days 10:00:00  66.769745\n",
       "2           51.08      -5.12 2024-12-07  1 days 10:00:00  66.863495\n",
       "3           51.08      -5.11 2024-12-07  1 days 10:00:00  66.925995\n",
       "4           51.08      -5.10 2024-12-07  1 days 10:00:00  66.957245\n",
       "...           ...        ...        ...              ...        ...\n",
       "1434220     41.34       9.52 2024-12-07  1 days 10:00:00  66.644745\n",
       "1434221     41.34       9.53 2024-12-07  1 days 10:00:00  66.644745\n",
       "1434222     41.34       9.54 2024-12-07  1 days 10:00:00  66.300995\n",
       "1434223     41.34       9.55 2024-12-07  1 days 10:00:00  65.894745\n",
       "1434224     41.34       9.56 2024-12-07  1 days 10:00:00  65.488495\n",
       "\n",
       "[1434225 rows x 5 columns]"
      ]
     },
     "execution_count": 60,
     "metadata": {},
     "output_type": "execute_result"
    }
   ],
   "source": [
    "# fetch data using default computed params\n",
    "arome.get_coverage(random_indicator)"
   ]
  }
 ],
 "metadata": {
  "kernelspec": {
   "display_name": "Python 3",
   "language": "python",
   "name": "python3"
  },
  "language_info": {
   "codemirror_mode": {
    "name": "ipython",
    "version": 3
   },
   "file_extension": ".py",
   "mimetype": "text/x-python",
   "name": "python",
   "nbconvert_exporter": "python",
   "pygments_lexer": "ipython3",
   "version": "3.11.9"
  },
  "toc": {
   "base_numbering": 1,
   "nav_menu": {},
   "number_sections": true,
   "sideBar": true,
   "skip_h1_title": false,
   "title_cell": "Table of Contents",
   "title_sidebar": "Contents",
   "toc_cell": false,
   "toc_position": {},
   "toc_section_display": true,
   "toc_window_display": false
  }
 },
 "nbformat": 4,
 "nbformat_minor": 2
}
