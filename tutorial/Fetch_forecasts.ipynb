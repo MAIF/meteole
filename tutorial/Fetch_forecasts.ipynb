{
 "cells": [
  {
   "cell_type": "markdown",
   "metadata": {},
   "source": [
    "# Fetch Forecasts\n",
    "Welcome to this tutorial! In this notebook, we will explore various methods to retrieve weather data from the ARPEGE and AROME models. This tutorial aims to provide a comprehensive guide on how to efficiently access data for different scenarios.\n",
    "\n",
    "We will cover the following cases:\n",
    "- Retrieving data based on a list of indicators\n",
    "- For a single run date\n",
    "- Specifying the \"interval\" parameter for each indicator\n",
    "- Specifying the \"forecast_horizon\" parameter\n",
    "- Specifying the \"heights\" or \"pressures\" parameters for each indicator\n",
    "- For multiple runs\n"
   ]
  },
  {
   "cell_type": "code",
   "execution_count": null,
   "metadata": {},
   "outputs": [],
   "source": [
    "import random\n",
    "from meteole import AromeForecast"
   ]
  },
  {
   "cell_type": "markdown",
   "metadata": {},
   "source": [
    "**Requirements notice** : TODO Link to the documentation to have application_id"
   ]
  },
  {
   "cell_type": "code",
   "execution_count": null,
   "metadata": {},
   "outputs": [],
   "source": [
    "APP_ID = \"<TO-BE-SET>\""
   ]
  },
  {
   "cell_type": "markdown",
   "metadata": {},
   "source": [
    "## Init Client Arome\n",
    "\n",
    "To get Arpege Forecast, import `ArpegeForecast`"
   ]
  },
  {
   "cell_type": "code",
   "execution_count": null,
   "metadata": {},
   "outputs": [],
   "source": [
    "# init client\n",
    "arome = AromeForecast(application_id=APP_ID)"
   ]
  },
  {
   "cell_type": "code",
   "execution_count": null,
   "metadata": {},
   "outputs": [],
   "source": [
    "# pick a random indicator\n",
    "random_indicator = random.choice(arome.indicators)\n",
    "print(f\"Indicator: {random_indicator}\")"
   ]
  },
  {
   "cell_type": "code",
   "execution_count": null,
   "metadata": {},
   "outputs": [],
   "source": [
    "arome.indicators"
   ]
  },
  {
   "cell_type": "markdown",
   "metadata": {},
   "source": [
    "### fetch data using default computed params"
   ]
  },
  {
   "cell_type": "code",
   "execution_count": null,
   "metadata": {},
   "outputs": [],
   "source": [
    "arome.get_coverage(random_indicator)"
   ]
  },
  {
   "cell_type": "markdown",
   "metadata": {},
   "source": [
    "### Get parameters\n",
    "\n",
    "If you want to select the different parameters available, you can retrieve them using the `get_capabilities` and `get_coverage_description`.\n"
   ]
  },
  {
   "cell_type": "code",
   "execution_count": null,
   "metadata": {},
   "outputs": [],
   "source": [
    "#First parameters to create a coverage_id (run and interval)\n",
    "df_capabilities = arome.get_capabilities()\n",
    "\n",
    "list_run_valid = list(df_capabilities[df_capabilities['indicator']==random_indicator]['run'].unique())\n",
    "list_interval_valid = list(df_capabilities[df_capabilities['indicator']==random_indicator]['interval'].unique())\n",
    "list_coverage_id_valid = list(df_capabilities[df_capabilities['indicator']==random_indicator]['id'].unique())\n"
   ]
  },
  {
   "cell_type": "code",
   "execution_count": null,
   "metadata": {},
   "outputs": [],
   "source": [
    "#Then other parameters from a coverage_id\n",
    "description = arome.get_coverage_description(list_coverage_id_valid[0])\n",
    "\n",
    "list_forecast_horizons_valid = description.get('forecast_horizons', [])\n",
    "list_height_valid = description.get('heights', [])\n",
    "list_pressure_id_valid = description.get('pressures', [])\n",
    "\n"
   ]
  },
  {
   "cell_type": "code",
   "execution_count": null,
   "metadata": {},
   "outputs": [],
   "source": []
  }
 ],
 "metadata": {
  "kernelspec": {
   "display_name": "inondation",
   "language": "python",
   "name": "inondation"
  },
  "language_info": {
   "codemirror_mode": {
    "name": "ipython",
    "version": 3
   },
   "file_extension": ".py",
   "mimetype": "text/x-python",
   "name": "python",
   "nbconvert_exporter": "python",
   "pygments_lexer": "ipython3",
   "version": "3.10.14"
  },
  "toc": {
   "base_numbering": 1,
   "nav_menu": {},
   "number_sections": true,
   "sideBar": true,
   "skip_h1_title": false,
   "title_cell": "Table of Contents",
   "title_sidebar": "Contents",
   "toc_cell": false,
   "toc_position": {},
   "toc_section_display": true,
   "toc_window_display": false
  }
 },
 "nbformat": 4,
 "nbformat_minor": 2
}
