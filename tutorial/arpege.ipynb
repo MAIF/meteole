{
 "cells": [
  {
   "cell_type": "markdown",
   "metadata": {},
   "source": [
    "# ARPEGE"
   ]
  },
  {
   "cell_type": "code",
   "execution_count": 42,
   "metadata": {},
   "outputs": [],
   "source": [
    "import os\n",
    "import random\n",
    "\n",
    "import dotenv\n",
    "\n",
    "from meteole import ArpegeForecast\n",
    "\n",
    "dotenv.load_dotenv()\n",
    "\n",
    "application_id = os.getenv(\"APPLICATION_ID\")"
   ]
  },
  {
   "cell_type": "code",
   "execution_count": 44,
   "metadata": {},
   "outputs": [
    {
     "name": "stderr",
     "output_type": "stream",
     "text": [
      "Fetching all available coverages...\n",
      "Fetching all available coverages...\n",
      "\n",
      "\t Successfully fetched 1890 coverages,\n",
      "\t representing 47 different indicators,\n",
      "\t across the last 18 runs (from 2024-12-07T00.00.00Z to 2024-12-11T06.00.00Z).\n",
      "\n",
      "\t Default run for `get_coverage`: 2024-12-11T06.00.00Z)\n",
      "\n",
      "\t Successfully fetched 1890 coverages,\n",
      "\t representing 47 different indicators,\n",
      "\t across the last 18 runs (from 2024-12-07T00.00.00Z to 2024-12-11T06.00.00Z).\n",
      "\n",
      "\t Default run for `get_coverage`: 2024-12-11T06.00.00Z)\n"
     ]
    }
   ],
   "source": [
    "# init client\n",
    "arpege = ArpegeForecast(application_id=application_id)"
   ]
  },
  {
   "cell_type": "code",
   "execution_count": 45,
   "metadata": {},
   "outputs": [
    {
     "name": "stdout",
     "output_type": "stream",
     "text": [
      "Indicator: PRESSURE__SPECIFIC_HEIGHT_LEVEL_ABOVE_GROUND\n"
     ]
    }
   ],
   "source": [
    "# pick a random indicator\n",
    "\n",
    "random_indicator = random.choice(arpege.indicators)\n",
    "print(f\"Indicator: {random_indicator}\")"
   ]
  },
  {
   "cell_type": "code",
   "execution_count": 47,
   "metadata": {},
   "outputs": [
    {
     "name": "stderr",
     "output_type": "stream",
     "text": [
      "Using latest `run=2024-12-07T00.00.00Z`.\n",
      "Using latest `run=2024-12-07T00.00.00Z`.\n",
      "Using `pressures=[100]`\n",
      "Using `pressures=[100]`\n",
      "Using `forecast_horizons=[0]`\n",
      "Using `forecast_horizons=[0]`\n"
     ]
    },
    {
     "data": {
      "text/html": [
       "<div>\n",
       "<style scoped>\n",
       "    .dataframe tbody tr th:only-of-type {\n",
       "        vertical-align: middle;\n",
       "    }\n",
       "\n",
       "    .dataframe tbody tr th {\n",
       "        vertical-align: top;\n",
       "    }\n",
       "\n",
       "    .dataframe thead th {\n",
       "        text-align: right;\n",
       "    }\n",
       "</style>\n",
       "<table border=\"1\" class=\"dataframe\">\n",
       "  <thead>\n",
       "    <tr style=\"text-align: right;\">\n",
       "      <th></th>\n",
       "      <th>latitude</th>\n",
       "      <th>longitude</th>\n",
       "      <th>run</th>\n",
       "      <th>forecast_horizon</th>\n",
       "      <th>pressure</th>\n",
       "      <th>w</th>\n",
       "    </tr>\n",
       "  </thead>\n",
       "  <tbody>\n",
       "    <tr>\n",
       "      <th>0</th>\n",
       "      <td>51.0</td>\n",
       "      <td>-5.1</td>\n",
       "      <td>2024-12-07</td>\n",
       "      <td>0 days</td>\n",
       "      <td>100.0</td>\n",
       "      <td>0.143111</td>\n",
       "    </tr>\n",
       "    <tr>\n",
       "      <th>1</th>\n",
       "      <td>51.0</td>\n",
       "      <td>-5.0</td>\n",
       "      <td>2024-12-07</td>\n",
       "      <td>0 days</td>\n",
       "      <td>100.0</td>\n",
       "      <td>0.137038</td>\n",
       "    </tr>\n",
       "    <tr>\n",
       "      <th>2</th>\n",
       "      <td>51.0</td>\n",
       "      <td>-4.9</td>\n",
       "      <td>2024-12-07</td>\n",
       "      <td>0 days</td>\n",
       "      <td>100.0</td>\n",
       "      <td>0.124403</td>\n",
       "    </tr>\n",
       "    <tr>\n",
       "      <th>3</th>\n",
       "      <td>51.0</td>\n",
       "      <td>-4.8</td>\n",
       "      <td>2024-12-07</td>\n",
       "      <td>0 days</td>\n",
       "      <td>100.0</td>\n",
       "      <td>0.104933</td>\n",
       "    </tr>\n",
       "    <tr>\n",
       "      <th>4</th>\n",
       "      <td>51.0</td>\n",
       "      <td>-4.7</td>\n",
       "      <td>2024-12-07</td>\n",
       "      <td>0 days</td>\n",
       "      <td>100.0</td>\n",
       "      <td>0.079207</td>\n",
       "    </tr>\n",
       "    <tr>\n",
       "      <th>...</th>\n",
       "      <td>...</td>\n",
       "      <td>...</td>\n",
       "      <td>...</td>\n",
       "      <td>...</td>\n",
       "      <td>...</td>\n",
       "      <td>...</td>\n",
       "    </tr>\n",
       "    <tr>\n",
       "      <th>14254</th>\n",
       "      <td>41.4</td>\n",
       "      <td>9.1</td>\n",
       "      <td>2024-12-07</td>\n",
       "      <td>0 days</td>\n",
       "      <td>100.0</td>\n",
       "      <td>-0.046007</td>\n",
       "    </tr>\n",
       "    <tr>\n",
       "      <th>14255</th>\n",
       "      <td>41.4</td>\n",
       "      <td>9.2</td>\n",
       "      <td>2024-12-07</td>\n",
       "      <td>0 days</td>\n",
       "      <td>100.0</td>\n",
       "      <td>-0.031786</td>\n",
       "    </tr>\n",
       "    <tr>\n",
       "      <th>14256</th>\n",
       "      <td>41.4</td>\n",
       "      <td>9.3</td>\n",
       "      <td>2024-12-07</td>\n",
       "      <td>0 days</td>\n",
       "      <td>100.0</td>\n",
       "      <td>-0.022081</td>\n",
       "    </tr>\n",
       "    <tr>\n",
       "      <th>14257</th>\n",
       "      <td>41.4</td>\n",
       "      <td>9.4</td>\n",
       "      <td>2024-12-07</td>\n",
       "      <td>0 days</td>\n",
       "      <td>100.0</td>\n",
       "      <td>-0.016130</td>\n",
       "    </tr>\n",
       "    <tr>\n",
       "      <th>14258</th>\n",
       "      <td>41.4</td>\n",
       "      <td>9.5</td>\n",
       "      <td>2024-12-07</td>\n",
       "      <td>0 days</td>\n",
       "      <td>100.0</td>\n",
       "      <td>-0.012743</td>\n",
       "    </tr>\n",
       "  </tbody>\n",
       "</table>\n",
       "<p>14259 rows × 6 columns</p>\n",
       "</div>"
      ],
      "text/plain": [
       "       latitude  longitude        run forecast_horizon  pressure         w\n",
       "0          51.0       -5.1 2024-12-07           0 days     100.0  0.143111\n",
       "1          51.0       -5.0 2024-12-07           0 days     100.0  0.137038\n",
       "2          51.0       -4.9 2024-12-07           0 days     100.0  0.124403\n",
       "3          51.0       -4.8 2024-12-07           0 days     100.0  0.104933\n",
       "4          51.0       -4.7 2024-12-07           0 days     100.0  0.079207\n",
       "...         ...        ...        ...              ...       ...       ...\n",
       "14254      41.4        9.1 2024-12-07           0 days     100.0 -0.046007\n",
       "14255      41.4        9.2 2024-12-07           0 days     100.0 -0.031786\n",
       "14256      41.4        9.3 2024-12-07           0 days     100.0 -0.022081\n",
       "14257      41.4        9.4 2024-12-07           0 days     100.0 -0.016130\n",
       "14258      41.4        9.5 2024-12-07           0 days     100.0 -0.012743\n",
       "\n",
       "[14259 rows x 6 columns]"
      ]
     },
     "execution_count": 47,
     "metadata": {},
     "output_type": "execute_result"
    }
   ],
   "source": [
    "# fetch data using default computed params\n",
    "arpege.get_coverage(\"VERTICAL_VELOCITY_PRESSURE__ISOBARIC_SURFACE\")"
   ]
  },
  {
   "cell_type": "code",
   "execution_count": null,
   "metadata": {},
   "outputs": [],
   "source": []
  }
 ],
 "metadata": {
  "kernelspec": {
   "display_name": "Python 3",
   "language": "python",
   "name": "python3"
  },
  "language_info": {
   "codemirror_mode": {
    "name": "ipython",
    "version": 3
   },
   "file_extension": ".py",
   "mimetype": "text/x-python",
   "name": "python",
   "nbconvert_exporter": "python",
   "pygments_lexer": "ipython3",
   "version": "3.11.9"
  },
  "toc": {
   "base_numbering": 1,
   "nav_menu": {},
   "number_sections": true,
   "sideBar": true,
   "skip_h1_title": false,
   "title_cell": "Table of Contents",
   "title_sidebar": "Contents",
   "toc_cell": false,
   "toc_position": {},
   "toc_section_display": true,
   "toc_window_display": false
  }
 },
 "nbformat": 4,
 "nbformat_minor": 2
}
