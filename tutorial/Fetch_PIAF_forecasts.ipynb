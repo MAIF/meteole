{
 "cells": [
  {
   "cell_type": "markdown",
   "metadata": {},
   "source": [
    "# Fetch PIAF Forecasts\n",
    "In this notebook, we retrieve weather data from the PIAF models.\n",
    "\n",
    "The interface is completely similar to Arpege, Arome or AromeInstantane, the main difference from the coder's perspective is the `forecast_horizon` which is every 5 minutes.\n",
    "\n",
    "We will cover the following cases:\n",
    "- Retrieving data based on a list of indicators\n",
    "- Specifying the \"interval\" parameter"
   ]
  },
  {
   "cell_type": "code",
   "execution_count": null,
   "metadata": {},
   "outputs": [],
   "source": [
    "from meteole import PiafForecast"
   ]
  },
  {
   "cell_type": "code",
   "execution_count": null,
   "metadata": {},
   "outputs": [],
   "source": [
    "import logging\n",
    "\n",
    "logging.basicConfig(level=logging.INFO)\n",
    "logger = logging.getLogger(\"meteole\")"
   ]
  },
  {
   "cell_type": "markdown",
   "metadata": {},
   "source": [
    "**Requirements notice** : TODO Link to the documentation to have application_id"
   ]
  },
  {
   "cell_type": "code",
   "execution_count": null,
   "metadata": {},
   "outputs": [],
   "source": [
    "APP_ID = \"<TO BE SET>\""
   ]
  },
  {
   "cell_type": "markdown",
   "metadata": {},
   "source": [
    "## Init PIAF Client"
   ]
  },
  {
   "cell_type": "code",
   "execution_count": null,
   "metadata": {},
   "outputs": [],
   "source": [
    "# init client\n",
    "piaf = PiafForecast(application_id=APP_ID)"
   ]
  },
  {
   "cell_type": "markdown",
   "metadata": {},
   "source": [
    "Piaf only has one indicators: the rain rate"
   ]
  },
  {
   "cell_type": "code",
   "execution_count": null,
   "metadata": {},
   "outputs": [],
   "source": [
    "piaf.INDICATORS"
   ]
  },
  {
   "cell_type": "markdown",
   "metadata": {},
   "source": [
    "### fetch data using default computed params"
   ]
  },
  {
   "cell_type": "code",
   "execution_count": null,
   "metadata": {},
   "outputs": [],
   "source": [
    "piaf.get_coverage(piaf.INDICATORS[0])"
   ]
  },
  {
   "cell_type": "markdown",
   "metadata": {},
   "source": [
    "### Get parameters\n",
    "\n",
    "If you want to select the different parameters available, you can retrieve them using the `get_capabilities` and `get_coverage_description`.\n"
   ]
  },
  {
   "cell_type": "code",
   "execution_count": null,
   "metadata": {},
   "outputs": [],
   "source": [
    "# First parameters to create a coverage_id (run and interval)\n",
    "df_capabilities = piaf.get_capabilities()\n",
    "\n",
    "list_run_valid = list(df_capabilities[\"run\"].unique())\n",
    "list_interval_valid = list(df_capabilities[\"interval\"].unique())\n",
    "list_coverage_id_valid = list(df_capabilities[\"id\"].unique())"
   ]
  },
  {
   "cell_type": "code",
   "execution_count": null,
   "metadata": {},
   "outputs": [],
   "source": [
    "# PT5M is a valid interval according to list_interval_valid, let's check it out\n",
    "piaf.get_coverage(piaf.INDICATORS[0], interval=\"PT5M\")"
   ]
  },
  {
   "cell_type": "code",
   "execution_count": null,
   "metadata": {},
   "outputs": [],
   "source": [
    "# Then other parameters from a coverage_id\n",
    "description = piaf.get_coverage_description(list_coverage_id_valid[0])\n",
    "\n",
    "list_forecast_horizons_valid = description.get(\"forecast_horizons\", [])\n",
    "list_height_valid = description.get(\"heights\", [])\n",
    "list_pressure_id_valid = description.get(\"pressures\", [])"
   ]
  }
 ],
 "metadata": {
  "kernelspec": {
   "display_name": "meteole_env",
   "language": "python",
   "name": "python3"
  },
  "language_info": {
   "codemirror_mode": {
    "name": "ipython",
    "version": 3
   },
   "file_extension": ".py",
   "mimetype": "text/x-python",
   "name": "python",
   "nbconvert_exporter": "python",
   "pygments_lexer": "ipython3",
   "version": "3.11.11"
  },
  "toc": {
   "base_numbering": 1,
   "nav_menu": {},
   "number_sections": true,
   "sideBar": true,
   "skip_h1_title": false,
   "title_cell": "Table of Contents",
   "title_sidebar": "Contents",
   "toc_cell": false,
   "toc_position": {},
   "toc_section_display": true,
   "toc_window_display": false
  }
 },
 "nbformat": 4,
 "nbformat_minor": 2
}
