{
 "cells": [
  {
   "cell_type": "markdown",
   "id": "7fb27b941602401d91542211134fc71a",
   "metadata": {},
   "source": [
    "# Vigilance Bulletin\n",
    "\n",
    "This tutorial will help you access the vigilance bulletin\n",
    "\n",
    "For more documentation, click [here](https://donneespubliques.meteofrance.fr/?fond=produit&id_produit=305&id_rubrique=50).\n",
    "\n",
    "Contents:\n",
    "\n",
    "- Init Vigilance Class\n",
    "- Access Data"
   ]
  },
  {
   "cell_type": "code",
   "execution_count": 2,
   "id": "acae54e37e7d407bbb7b55eff062a284",
   "metadata": {},
   "outputs": [],
   "source": [
    "import os\n",
    "\n",
    "import pandas as pd\n",
    "\n",
    "from meteole import Vigilance"
   ]
  },
  {
   "cell_type": "markdown",
   "id": "9a63283cbaf04dbcab1f6479b197f3a8",
   "metadata": {},
   "source": [
    "# Init Vigilance Class"
   ]
  },
  {
   "cell_type": "markdown",
   "id": "8dd0d8092fe74a7c96281538738b07e2",
   "metadata": {},
   "source": [
    "**Requirements notice** : TODO Link to the documentation to have application_id"
   ]
  },
  {
   "cell_type": "code",
   "execution_count": 3,
   "id": "72eea5119410473aa328ad9291626812",
   "metadata": {},
   "outputs": [],
   "source": [
    "# load application_id from .env\n",
    "from dotenv import load_dotenv\n",
    "\n",
    "load_dotenv()\n",
    "application_id = os.getenv(\"APPLICATION_ID\", None)"
   ]
  },
  {
   "cell_type": "code",
   "execution_count": 11,
   "id": "8edb47106e1a46a883d545849b8ab81b",
   "metadata": {},
   "outputs": [],
   "source": [
    "client = Vigilance(application_id=application_id)"
   ]
  },
  {
   "cell_type": "markdown",
   "id": "10185d26023b46108eb7d9f57d49d2b3",
   "metadata": {},
   "source": [
    "# Collect Forecasted phenomenon\n",
    "\n",
    "Collect vigilance data from Météo France, including the forecasted phenomenon in df_phenomenon and the maximum intensity for each zone in df_timelaps"
   ]
  },
  {
   "cell_type": "code",
   "execution_count": 17,
   "id": "8763a12b2bbd4a93a75aff182afb95dc",
   "metadata": {},
   "outputs": [],
   "source": [
    "df_phenomenon, df_timelaps = client.get_phenomenon()"
   ]
  },
  {
   "cell_type": "code",
   "execution_count": 18,
   "id": "7623eae2785240b9bd12b16a66d81610",
   "metadata": {},
   "outputs": [
    {
     "data": {
      "text/html": [
       "<div>\n",
       "<style scoped>\n",
       "    .dataframe tbody tr th:only-of-type {\n",
       "        vertical-align: middle;\n",
       "    }\n",
       "\n",
       "    .dataframe tbody tr th {\n",
       "        vertical-align: top;\n",
       "    }\n",
       "\n",
       "    .dataframe thead th {\n",
       "        text-align: right;\n",
       "    }\n",
       "</style>\n",
       "<table border=\"1\" class=\"dataframe\">\n",
       "  <thead>\n",
       "    <tr style=\"text-align: right;\">\n",
       "      <th></th>\n",
       "      <th>phenomenon_id</th>\n",
       "      <th>any_color_count</th>\n",
       "      <th>phenomenon_counts</th>\n",
       "      <th>echeance</th>\n",
       "      <th>phenomenon_libelle</th>\n",
       "    </tr>\n",
       "  </thead>\n",
       "  <tbody>\n",
       "    <tr>\n",
       "      <th>0</th>\n",
       "      <td>4</td>\n",
       "      <td>2</td>\n",
       "      <td>[{'color_id': 2, 'color_name': 'Jaune', 'count...</td>\n",
       "      <td>J</td>\n",
       "      <td>crues</td>\n",
       "    </tr>\n",
       "    <tr>\n",
       "      <th>1</th>\n",
       "      <td>8</td>\n",
       "      <td>5</td>\n",
       "      <td>[{'color_id': 2, 'color_name': 'Jaune', 'count...</td>\n",
       "      <td>J</td>\n",
       "      <td>avalanches</td>\n",
       "    </tr>\n",
       "    <tr>\n",
       "      <th>2</th>\n",
       "      <td>1</td>\n",
       "      <td>5</td>\n",
       "      <td>[{'color_id': 2, 'color_name': 'Jaune', 'count...</td>\n",
       "      <td>J1</td>\n",
       "      <td>vent</td>\n",
       "    </tr>\n",
       "    <tr>\n",
       "      <th>3</th>\n",
       "      <td>4</td>\n",
       "      <td>2</td>\n",
       "      <td>[{'color_id': 2, 'color_name': 'Jaune', 'count...</td>\n",
       "      <td>J1</td>\n",
       "      <td>crues</td>\n",
       "    </tr>\n",
       "    <tr>\n",
       "      <th>4</th>\n",
       "      <td>9</td>\n",
       "      <td>2</td>\n",
       "      <td>[{'color_id': 2, 'color_name': 'Jaune', 'count...</td>\n",
       "      <td>J1</td>\n",
       "      <td>vagues submersion</td>\n",
       "    </tr>\n",
       "  </tbody>\n",
       "</table>\n",
       "</div>"
      ],
      "text/plain": [
       "  phenomenon_id  any_color_count  \\\n",
       "0             4                2   \n",
       "1             8                5   \n",
       "2             1                5   \n",
       "3             4                2   \n",
       "4             9                2   \n",
       "\n",
       "                                   phenomenon_counts echeance  \\\n",
       "0  [{'color_id': 2, 'color_name': 'Jaune', 'count...        J   \n",
       "1  [{'color_id': 2, 'color_name': 'Jaune', 'count...        J   \n",
       "2  [{'color_id': 2, 'color_name': 'Jaune', 'count...       J1   \n",
       "3  [{'color_id': 2, 'color_name': 'Jaune', 'count...       J1   \n",
       "4  [{'color_id': 2, 'color_name': 'Jaune', 'count...       J1   \n",
       "\n",
       "  phenomenon_libelle  \n",
       "0              crues  \n",
       "1         avalanches  \n",
       "2               vent  \n",
       "3              crues  \n",
       "4  vagues submersion  "
      ]
     },
     "execution_count": 18,
     "metadata": {},
     "output_type": "execute_result"
    }
   ],
   "source": [
    "df_phenomenon.head()"
   ]
  },
  {
   "cell_type": "code",
   "execution_count": 19,
   "id": "7cdc8c89c7104fffa095e18ddfef8986",
   "metadata": {},
   "outputs": [
    {
     "data": {
      "text/html": [
       "<div>\n",
       "<style scoped>\n",
       "    .dataframe tbody tr th:only-of-type {\n",
       "        vertical-align: middle;\n",
       "    }\n",
       "\n",
       "    .dataframe tbody tr th {\n",
       "        vertical-align: top;\n",
       "    }\n",
       "\n",
       "    .dataframe thead th {\n",
       "        text-align: right;\n",
       "    }\n",
       "</style>\n",
       "<table border=\"1\" class=\"dataframe\">\n",
       "  <thead>\n",
       "    <tr style=\"text-align: right;\">\n",
       "      <th></th>\n",
       "      <th>domain_id</th>\n",
       "      <th>max_color_id</th>\n",
       "      <th>phenomenon_items</th>\n",
       "      <th>echeance</th>\n",
       "    </tr>\n",
       "  </thead>\n",
       "  <tbody>\n",
       "    <tr>\n",
       "      <th>0</th>\n",
       "      <td>10</td>\n",
       "      <td>1</td>\n",
       "      <td>[{'phenomenon_id': '1', 'phenomenon_max_color_...</td>\n",
       "      <td>J</td>\n",
       "    </tr>\n",
       "    <tr>\n",
       "      <th>1</th>\n",
       "      <td>11</td>\n",
       "      <td>1</td>\n",
       "      <td>[{'phenomenon_id': '1', 'phenomenon_max_color_...</td>\n",
       "      <td>J</td>\n",
       "    </tr>\n",
       "    <tr>\n",
       "      <th>2</th>\n",
       "      <td>12</td>\n",
       "      <td>1</td>\n",
       "      <td>[{'phenomenon_id': '1', 'phenomenon_max_color_...</td>\n",
       "      <td>J</td>\n",
       "    </tr>\n",
       "    <tr>\n",
       "      <th>3</th>\n",
       "      <td>13</td>\n",
       "      <td>1</td>\n",
       "      <td>[{'phenomenon_id': '1', 'phenomenon_max_color_...</td>\n",
       "      <td>J</td>\n",
       "    </tr>\n",
       "    <tr>\n",
       "      <th>4</th>\n",
       "      <td>14</td>\n",
       "      <td>1</td>\n",
       "      <td>[{'phenomenon_id': '1', 'phenomenon_max_color_...</td>\n",
       "      <td>J</td>\n",
       "    </tr>\n",
       "  </tbody>\n",
       "</table>\n",
       "</div>"
      ],
      "text/plain": [
       "  domain_id  max_color_id                                   phenomenon_items  \\\n",
       "0        10             1  [{'phenomenon_id': '1', 'phenomenon_max_color_...   \n",
       "1        11             1  [{'phenomenon_id': '1', 'phenomenon_max_color_...   \n",
       "2        12             1  [{'phenomenon_id': '1', 'phenomenon_max_color_...   \n",
       "3        13             1  [{'phenomenon_id': '1', 'phenomenon_max_color_...   \n",
       "4        14             1  [{'phenomenon_id': '1', 'phenomenon_max_color_...   \n",
       "\n",
       "  echeance  \n",
       "0        J  \n",
       "1        J  \n",
       "2        J  \n",
       "3        J  \n",
       "4        J  "
      ]
     },
     "execution_count": 19,
     "metadata": {},
     "output_type": "execute_result"
    }
   ],
   "source": [
    "df_timelaps.head()"
   ]
  },
  {
   "cell_type": "markdown",
   "id": "b118ea5561624da68c537baed56e602f",
   "metadata": {},
   "source": [
    "# Collect text of monitoring bulletins\n",
    "\n",
    "Contains the text of monitoring bulletins, whether national, zonal (in the sense of defense zones) or departmental. It is issued in addition to the Vigilance card, when the meteorological situation so requires (systematically in Vigilance Orange and Red, when necessary in Vigilance Yellow)."
   ]
  },
  {
   "cell_type": "code",
   "execution_count": 20,
   "id": "938c804e27f84196a10c8828c723f798",
   "metadata": {},
   "outputs": [
    {
     "name": "stderr",
     "output_type": "stream",
     "text": [
      "missing data\n",
      "Unexpected error: {\"detail\":\"no matching blob\"}\n"
     ]
    }
   ],
   "source": [
    "textes_vigilance = client.get_textes_vigilance()"
   ]
  },
  {
   "cell_type": "code",
   "execution_count": 21,
   "id": "504fb2a444614c0babb325280ed9130a",
   "metadata": {},
   "outputs": [],
   "source": [
    "test_texte = pd.json_normalize(textes_vigilance)"
   ]
  },
  {
   "cell_type": "code",
   "execution_count": null,
   "id": "b43b363d81ae4b689946ece5c682cd59",
   "metadata": {},
   "outputs": [],
   "source": [
    "df_text_bloc_items = pd.json_normalize(test_texte[\"product.text_bloc_items\"].explode())"
   ]
  },
  {
   "cell_type": "code",
   "execution_count": null,
   "id": "8a65eabff63a45729fe45fb5ade58bdc",
   "metadata": {},
   "outputs": [],
   "source": [
    "df_text_bloc_items.head(10)"
   ]
  },
  {
   "cell_type": "markdown",
   "id": "c3933fab20d04ec698c2621248eb3be0",
   "metadata": {},
   "source": [
    "# Map display"
   ]
  },
  {
   "cell_type": "code",
   "execution_count": null,
   "id": "4dd4641cc4064e0191573fe9c69df29b",
   "metadata": {},
   "outputs": [],
   "source": [
    "client.get_vignette()"
   ]
  }
 ],
 "metadata": {
  "kernelspec": {
   "display_name": "meteole_env",
   "language": "python",
   "name": "python3"
  },
  "language_info": {
   "codemirror_mode": {
    "name": "ipython",
    "version": 3
   },
   "file_extension": ".py",
   "mimetype": "text/x-python",
   "name": "python",
   "nbconvert_exporter": "python",
   "pygments_lexer": "ipython3",
   "version": "3.11.11"
  },
  "toc": {
   "base_numbering": 1,
   "nav_menu": {},
   "number_sections": true,
   "sideBar": true,
   "skip_h1_title": false,
   "title_cell": "Table of Contents",
   "title_sidebar": "Contents",
   "toc_cell": false,
   "toc_position": {},
   "toc_section_display": true,
   "toc_window_display": false
  }
 },
 "nbformat": 4,
 "nbformat_minor": 5
}
