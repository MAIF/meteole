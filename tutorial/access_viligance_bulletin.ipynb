{
 "cells": [
  {
   "cell_type": "markdown",
   "metadata": {},
   "source": [
    "# Vigilance Bulletin\n",
    "\n",
    "This tutorial will help you access the vigilance bulletin\n",
    "\n",
    "For more documentation, click [here](https://donneespubliques.meteofrance.fr/?fond=produit&id_produit=305&id_rubrique=50).\n",
    "\n",
    "Contents:\n",
    "\n",
    "- Init Vigilance Class\n",
    "- Access Data"
   ]
  },
  {
   "cell_type": "code",
   "execution_count": 1,
   "metadata": {},
   "outputs": [],
   "source": [
    "import os\n",
    "import pandas as pd\n",
    "from meteole import Vigilance"
   ]
  },
  {
   "cell_type": "markdown",
   "metadata": {},
   "source": [
    "# Init Vigilance Class"
   ]
  },
  {
   "cell_type": "markdown",
   "metadata": {},
   "source": [
    "**Requirements notice** : TODO Link to the documentation to have application_id"
   ]
  },
  {
   "cell_type": "code",
   "execution_count": 3,
   "metadata": {},
   "outputs": [],
   "source": [
    "# load application_id from .env\n",
    "from dotenv import load_dotenv\n",
    "load_dotenv()\n",
    "application_id = os.getenv(\"APPLICATION_ID\", None)"
   ]
  },
  {
   "cell_type": "code",
   "execution_count": 4,
   "metadata": {},
   "outputs": [],
   "source": [
    "client = Vigilance(application_id = application_id)"
   ]
  },
  {
   "cell_type": "markdown",
   "metadata": {},
   "source": [
    "# Collect Forecasted phenomenon\n",
    "\n",
    "Collect vigilance data from Météo France, including the forecasted phenomenon in df_phenomenon and the maximum intensity for each zone in df_timelaps"
   ]
  },
  {
   "cell_type": "code",
   "execution_count": 5,
   "metadata": {},
   "outputs": [],
   "source": [
    "df_phenomenon, df_timelaps = client.get_phenomenon()"
   ]
  },
  {
   "cell_type": "code",
   "execution_count": 6,
   "metadata": {},
   "outputs": [
    {
     "data": {
      "text/html": [
       "<div>\n",
       "<style scoped>\n",
       "    .dataframe tbody tr th:only-of-type {\n",
       "        vertical-align: middle;\n",
       "    }\n",
       "\n",
       "    .dataframe tbody tr th {\n",
       "        vertical-align: top;\n",
       "    }\n",
       "\n",
       "    .dataframe thead th {\n",
       "        text-align: right;\n",
       "    }\n",
       "</style>\n",
       "<table border=\"1\" class=\"dataframe\">\n",
       "  <thead>\n",
       "    <tr style=\"text-align: right;\">\n",
       "      <th></th>\n",
       "      <th>phenomenon_id</th>\n",
       "      <th>any_color_count</th>\n",
       "      <th>phenomenon_counts</th>\n",
       "      <th>echeance</th>\n",
       "      <th>phenomenon_libelle</th>\n",
       "    </tr>\n",
       "  </thead>\n",
       "  <tbody>\n",
       "    <tr>\n",
       "      <th>0</th>\n",
       "      <td>1</td>\n",
       "      <td>62</td>\n",
       "      <td>[{'color_id': 2, 'color_name': 'Jaune', 'count...</td>\n",
       "      <td>J</td>\n",
       "      <td>vent</td>\n",
       "    </tr>\n",
       "    <tr>\n",
       "      <th>1</th>\n",
       "      <td>4</td>\n",
       "      <td>16</td>\n",
       "      <td>[{'color_id': 2, 'color_name': 'Jaune', 'count...</td>\n",
       "      <td>J</td>\n",
       "      <td>crues</td>\n",
       "    </tr>\n",
       "    <tr>\n",
       "      <th>2</th>\n",
       "      <td>2</td>\n",
       "      <td>16</td>\n",
       "      <td>[{'color_id': 2, 'color_name': 'Jaune', 'count...</td>\n",
       "      <td>J</td>\n",
       "      <td>pluie</td>\n",
       "    </tr>\n",
       "    <tr>\n",
       "      <th>3</th>\n",
       "      <td>5</td>\n",
       "      <td>68</td>\n",
       "      <td>[{'color_id': 2, 'color_name': 'Jaune', 'count...</td>\n",
       "      <td>J</td>\n",
       "      <td>neige / verglas</td>\n",
       "    </tr>\n",
       "    <tr>\n",
       "      <th>4</th>\n",
       "      <td>9</td>\n",
       "      <td>6</td>\n",
       "      <td>[{'color_id': 2, 'color_name': 'Jaune', 'count...</td>\n",
       "      <td>J</td>\n",
       "      <td>vagues submersion</td>\n",
       "    </tr>\n",
       "  </tbody>\n",
       "</table>\n",
       "</div>"
      ],
      "text/plain": [
       "  phenomenon_id  any_color_count  \\\n",
       "0             1               62   \n",
       "1             4               16   \n",
       "2             2               16   \n",
       "3             5               68   \n",
       "4             9                6   \n",
       "\n",
       "                                   phenomenon_counts echeance  \\\n",
       "0  [{'color_id': 2, 'color_name': 'Jaune', 'count...        J   \n",
       "1  [{'color_id': 2, 'color_name': 'Jaune', 'count...        J   \n",
       "2  [{'color_id': 2, 'color_name': 'Jaune', 'count...        J   \n",
       "3  [{'color_id': 2, 'color_name': 'Jaune', 'count...        J   \n",
       "4  [{'color_id': 2, 'color_name': 'Jaune', 'count...        J   \n",
       "\n",
       "  phenomenon_libelle  \n",
       "0               vent  \n",
       "1              crues  \n",
       "2              pluie  \n",
       "3    neige / verglas  \n",
       "4  vagues submersion  "
      ]
     },
     "execution_count": 6,
     "metadata": {},
     "output_type": "execute_result"
    }
   ],
   "source": [
    "df_phenomenon.head()"
   ]
  },
  {
   "cell_type": "code",
   "execution_count": 7,
   "metadata": {},
   "outputs": [
    {
     "data": {
      "text/html": [
       "<div>\n",
       "<style scoped>\n",
       "    .dataframe tbody tr th:only-of-type {\n",
       "        vertical-align: middle;\n",
       "    }\n",
       "\n",
       "    .dataframe tbody tr th {\n",
       "        vertical-align: top;\n",
       "    }\n",
       "\n",
       "    .dataframe thead th {\n",
       "        text-align: right;\n",
       "    }\n",
       "</style>\n",
       "<table border=\"1\" class=\"dataframe\">\n",
       "  <thead>\n",
       "    <tr style=\"text-align: right;\">\n",
       "      <th></th>\n",
       "      <th>domain_id</th>\n",
       "      <th>max_color_id</th>\n",
       "      <th>phenomenon_items</th>\n",
       "      <th>echeance</th>\n",
       "    </tr>\n",
       "  </thead>\n",
       "  <tbody>\n",
       "    <tr>\n",
       "      <th>0</th>\n",
       "      <td>10</td>\n",
       "      <td>3</td>\n",
       "      <td>[{'phenomenon_id': '1', 'phenomenon_max_color_...</td>\n",
       "      <td>J</td>\n",
       "    </tr>\n",
       "    <tr>\n",
       "      <th>1</th>\n",
       "      <td>11</td>\n",
       "      <td>2</td>\n",
       "      <td>[{'phenomenon_id': '1', 'phenomenon_max_color_...</td>\n",
       "      <td>J</td>\n",
       "    </tr>\n",
       "    <tr>\n",
       "      <th>2</th>\n",
       "      <td>12</td>\n",
       "      <td>2</td>\n",
       "      <td>[{'phenomenon_id': '1', 'phenomenon_max_color_...</td>\n",
       "      <td>J</td>\n",
       "    </tr>\n",
       "    <tr>\n",
       "      <th>3</th>\n",
       "      <td>13</td>\n",
       "      <td>1</td>\n",
       "      <td>[{'phenomenon_id': '1', 'phenomenon_max_color_...</td>\n",
       "      <td>J</td>\n",
       "    </tr>\n",
       "    <tr>\n",
       "      <th>4</th>\n",
       "      <td>14</td>\n",
       "      <td>3</td>\n",
       "      <td>[{'phenomenon_id': '1', 'phenomenon_max_color_...</td>\n",
       "      <td>J</td>\n",
       "    </tr>\n",
       "  </tbody>\n",
       "</table>\n",
       "</div>"
      ],
      "text/plain": [
       "  domain_id  max_color_id                                   phenomenon_items  \\\n",
       "0        10             3  [{'phenomenon_id': '1', 'phenomenon_max_color_...   \n",
       "1        11             2  [{'phenomenon_id': '1', 'phenomenon_max_color_...   \n",
       "2        12             2  [{'phenomenon_id': '1', 'phenomenon_max_color_...   \n",
       "3        13             1  [{'phenomenon_id': '1', 'phenomenon_max_color_...   \n",
       "4        14             3  [{'phenomenon_id': '1', 'phenomenon_max_color_...   \n",
       "\n",
       "  echeance  \n",
       "0        J  \n",
       "1        J  \n",
       "2        J  \n",
       "3        J  \n",
       "4        J  "
      ]
     },
     "execution_count": 7,
     "metadata": {},
     "output_type": "execute_result"
    }
   ],
   "source": [
    "df_timelaps.head()"
   ]
  },
  {
   "cell_type": "markdown",
   "metadata": {},
   "source": [
    "# Collect text of monitoring bulletins\n",
    "\n",
    "Contains the text of monitoring bulletins, whether national, zonal (in the sense of defense zones) or departmental. It is issued in addition to the Vigilance card, when the meteorological situation so requires (systematically in Vigilance Orange and Red, when necessary in Vigilance Yellow)."
   ]
  },
  {
   "cell_type": "code",
   "execution_count": 8,
   "metadata": {},
   "outputs": [],
   "source": [
    "textes_vigilance = client.get_textes_vigilance()"
   ]
  },
  {
   "cell_type": "code",
   "execution_count": 9,
   "metadata": {},
   "outputs": [],
   "source": [
    "test_texte = pd.json_normalize(textes_vigilance)"
   ]
  },
  {
   "cell_type": "code",
   "execution_count": 10,
   "metadata": {},
   "outputs": [
    {
     "data": {
      "text/html": [
       "<div>\n",
       "<style scoped>\n",
       "    .dataframe tbody tr th:only-of-type {\n",
       "        vertical-align: middle;\n",
       "    }\n",
       "\n",
       "    .dataframe tbody tr th {\n",
       "        vertical-align: top;\n",
       "    }\n",
       "\n",
       "    .dataframe thead th {\n",
       "        text-align: right;\n",
       "    }\n",
       "</style>\n",
       "<table border=\"1\" class=\"dataframe\">\n",
       "  <thead>\n",
       "    <tr style=\"text-align: right;\">\n",
       "      <th></th>\n",
       "      <th>product.warning_type</th>\n",
       "      <th>product.type_cdp</th>\n",
       "      <th>product.version_vigilance</th>\n",
       "      <th>product.version_cdp</th>\n",
       "      <th>product.domain_id</th>\n",
       "      <th>product.domain_name</th>\n",
       "      <th>product.update_time</th>\n",
       "      <th>product.text_bloc_items</th>\n",
       "      <th>meta.snapshot_id</th>\n",
       "      <th>meta.product_datetime</th>\n",
       "      <th>meta.generation_timestamp</th>\n",
       "    </tr>\n",
       "  </thead>\n",
       "  <tbody>\n",
       "    <tr>\n",
       "      <th>0</th>\n",
       "      <td>vigilance</td>\n",
       "      <td>cdp_textes</td>\n",
       "      <td>V6</td>\n",
       "      <td>1.0.0</td>\n",
       "      <td>FRA</td>\n",
       "      <td>France</td>\n",
       "      <td>2024-11-21T07:05:38Z</td>\n",
       "      <td>[{'domain_id': 'FRA', 'domain_name': 'France',...</td>\n",
       "      <td>a594306a-1134-4584-b2b8-4bccbbd934db</td>\n",
       "      <td>2024-11-21T06:30:00+00:00</td>\n",
       "      <td>2024-11-21T07:05:38+00:00</td>\n",
       "    </tr>\n",
       "  </tbody>\n",
       "</table>\n",
       "</div>"
      ],
      "text/plain": [
       "  product.warning_type product.type_cdp product.version_vigilance  \\\n",
       "0            vigilance       cdp_textes                        V6   \n",
       "\n",
       "  product.version_cdp product.domain_id product.domain_name  \\\n",
       "0               1.0.0               FRA              France   \n",
       "\n",
       "    product.update_time                            product.text_bloc_items  \\\n",
       "0  2024-11-21T07:05:38Z  [{'domain_id': 'FRA', 'domain_name': 'France',...   \n",
       "\n",
       "                       meta.snapshot_id      meta.product_datetime  \\\n",
       "0  a594306a-1134-4584-b2b8-4bccbbd934db  2024-11-21T06:30:00+00:00   \n",
       "\n",
       "   meta.generation_timestamp  \n",
       "0  2024-11-21T07:05:38+00:00  "
      ]
     },
     "execution_count": 10,
     "metadata": {},
     "output_type": "execute_result"
    }
   ],
   "source": [
    "test_texte.head()"
   ]
  },
  {
   "cell_type": "code",
   "execution_count": 11,
   "metadata": {},
   "outputs": [],
   "source": [
    "df_text_bloc_items = pd.json_normalize(test_texte['product.text_bloc_items'].explode())"
   ]
  },
  {
   "cell_type": "code",
   "execution_count": 12,
   "metadata": {},
   "outputs": [
    {
     "data": {
      "text/html": [
       "<div>\n",
       "<style scoped>\n",
       "    .dataframe tbody tr th:only-of-type {\n",
       "        vertical-align: middle;\n",
       "    }\n",
       "\n",
       "    .dataframe tbody tr th {\n",
       "        vertical-align: top;\n",
       "    }\n",
       "\n",
       "    .dataframe thead th {\n",
       "        text-align: right;\n",
       "    }\n",
       "</style>\n",
       "<table border=\"1\" class=\"dataframe\">\n",
       "  <thead>\n",
       "    <tr style=\"text-align: right;\">\n",
       "      <th></th>\n",
       "      <th>domain_id</th>\n",
       "      <th>domain_name</th>\n",
       "      <th>bloc_title</th>\n",
       "      <th>bloc_id</th>\n",
       "      <th>bloc_items</th>\n",
       "    </tr>\n",
       "  </thead>\n",
       "  <tbody>\n",
       "    <tr>\n",
       "      <th>0</th>\n",
       "      <td>FRA</td>\n",
       "      <td>France</td>\n",
       "      <td>Bulletin de Vigilance météo national</td>\n",
       "      <td>BULLETIN_NATIONAL</td>\n",
       "      <td>[{'id': 'NAT_SITUATION_PAYS', 'type_name': 'Si...</td>\n",
       "    </tr>\n",
       "    <tr>\n",
       "      <th>1</th>\n",
       "      <td>ZDF_EST</td>\n",
       "      <td>Défense Est</td>\n",
       "      <td>Bulletin de Vigilance météo zonal</td>\n",
       "      <td>BULLETIN_ZONAL</td>\n",
       "      <td>[{'id': 'ZON_SITUATION_ZONAL', 'type_name': 'S...</td>\n",
       "    </tr>\n",
       "    <tr>\n",
       "      <th>2</th>\n",
       "      <td>ZDF_PARIS</td>\n",
       "      <td>Défense Paris</td>\n",
       "      <td>Bulletin de Vigilance météo zonal</td>\n",
       "      <td>BULLETIN_ZONAL</td>\n",
       "      <td>[{'id': 'ZON_SITUATION_ZONAL', 'type_name': 'S...</td>\n",
       "    </tr>\n",
       "    <tr>\n",
       "      <th>3</th>\n",
       "      <td>ZDF_NORD</td>\n",
       "      <td>Défense Nord</td>\n",
       "      <td>Bulletin de Vigilance météo zonal</td>\n",
       "      <td>BULLETIN_ZONAL</td>\n",
       "      <td>[{'id': 'ZON_INCERTITUDE_ZONAL', 'type_name': ...</td>\n",
       "    </tr>\n",
       "    <tr>\n",
       "      <th>4</th>\n",
       "      <td>ZDF_SUD_EST</td>\n",
       "      <td>Défense Sud-Est</td>\n",
       "      <td>Bulletin de Vigilance météo zonal</td>\n",
       "      <td>BULLETIN_ZONAL</td>\n",
       "      <td>[{'id': 'ZON_SITUATION_ZONAL', 'type_name': 'S...</td>\n",
       "    </tr>\n",
       "    <tr>\n",
       "      <th>5</th>\n",
       "      <td>ZDF_SUD_OUEST</td>\n",
       "      <td>Défense Sud-Ouest</td>\n",
       "      <td>Bulletin de Vigilance météo zonal</td>\n",
       "      <td>BULLETIN_ZONAL</td>\n",
       "      <td>[{'id': 'ZON_SITUATION_ZONAL', 'type_name': 'S...</td>\n",
       "    </tr>\n",
       "    <tr>\n",
       "      <th>6</th>\n",
       "      <td>ZDF_SUD</td>\n",
       "      <td>Défense Sud</td>\n",
       "      <td>Bulletin de Vigilance météo zonal</td>\n",
       "      <td>BULLETIN_ZONAL</td>\n",
       "      <td>[{'id': 'ZON_SITUATION_ZONAL', 'type_name': 'S...</td>\n",
       "    </tr>\n",
       "    <tr>\n",
       "      <th>7</th>\n",
       "      <td>ZDF_OUEST</td>\n",
       "      <td>Défense Ouest</td>\n",
       "      <td>Bulletin de Vigilance météo zonal</td>\n",
       "      <td>BULLETIN_ZONAL</td>\n",
       "      <td>[{'id': 'ZON_SITUATION_ZONAL', 'type_name': 'S...</td>\n",
       "    </tr>\n",
       "    <tr>\n",
       "      <th>8</th>\n",
       "      <td>10</td>\n",
       "      <td>Aube</td>\n",
       "      <td>Bulletin de Vigilance météo Zone Est*</td>\n",
       "      <td>BULLETIN_DEPARTEMENTAL</td>\n",
       "      <td>[{'id': 'DEP_SITUATION_ZONAL', 'type_name': 'S...</td>\n",
       "    </tr>\n",
       "    <tr>\n",
       "      <th>9</th>\n",
       "      <td>11</td>\n",
       "      <td>Aude</td>\n",
       "      <td>Bulletin de Vigilance météo Arc méditerranéen ...</td>\n",
       "      <td>BULLETIN_DEPARTEMENTAL</td>\n",
       "      <td>[{'id': 'DEP_SITUATION_ZONAL', 'type_name': 'S...</td>\n",
       "    </tr>\n",
       "  </tbody>\n",
       "</table>\n",
       "</div>"
      ],
      "text/plain": [
       "       domain_id        domain_name  \\\n",
       "0            FRA             France   \n",
       "1        ZDF_EST        Défense Est   \n",
       "2      ZDF_PARIS      Défense Paris   \n",
       "3       ZDF_NORD       Défense Nord   \n",
       "4    ZDF_SUD_EST    Défense Sud-Est   \n",
       "5  ZDF_SUD_OUEST  Défense Sud-Ouest   \n",
       "6        ZDF_SUD        Défense Sud   \n",
       "7      ZDF_OUEST      Défense Ouest   \n",
       "8             10               Aube   \n",
       "9             11               Aude   \n",
       "\n",
       "                                          bloc_title                 bloc_id  \\\n",
       "0               Bulletin de Vigilance météo national       BULLETIN_NATIONAL   \n",
       "1                  Bulletin de Vigilance météo zonal          BULLETIN_ZONAL   \n",
       "2                  Bulletin de Vigilance météo zonal          BULLETIN_ZONAL   \n",
       "3                  Bulletin de Vigilance météo zonal          BULLETIN_ZONAL   \n",
       "4                  Bulletin de Vigilance météo zonal          BULLETIN_ZONAL   \n",
       "5                  Bulletin de Vigilance météo zonal          BULLETIN_ZONAL   \n",
       "6                  Bulletin de Vigilance météo zonal          BULLETIN_ZONAL   \n",
       "7                  Bulletin de Vigilance météo zonal          BULLETIN_ZONAL   \n",
       "8              Bulletin de Vigilance météo Zone Est*  BULLETIN_DEPARTEMENTAL   \n",
       "9  Bulletin de Vigilance météo Arc méditerranéen ...  BULLETIN_DEPARTEMENTAL   \n",
       "\n",
       "                                          bloc_items  \n",
       "0  [{'id': 'NAT_SITUATION_PAYS', 'type_name': 'Si...  \n",
       "1  [{'id': 'ZON_SITUATION_ZONAL', 'type_name': 'S...  \n",
       "2  [{'id': 'ZON_SITUATION_ZONAL', 'type_name': 'S...  \n",
       "3  [{'id': 'ZON_INCERTITUDE_ZONAL', 'type_name': ...  \n",
       "4  [{'id': 'ZON_SITUATION_ZONAL', 'type_name': 'S...  \n",
       "5  [{'id': 'ZON_SITUATION_ZONAL', 'type_name': 'S...  \n",
       "6  [{'id': 'ZON_SITUATION_ZONAL', 'type_name': 'S...  \n",
       "7  [{'id': 'ZON_SITUATION_ZONAL', 'type_name': 'S...  \n",
       "8  [{'id': 'DEP_SITUATION_ZONAL', 'type_name': 'S...  \n",
       "9  [{'id': 'DEP_SITUATION_ZONAL', 'type_name': 'S...  "
      ]
     },
     "execution_count": 12,
     "metadata": {},
     "output_type": "execute_result"
    }
   ],
   "source": [
    "df_text_bloc_items.head(10)"
   ]
  },
  {
   "cell_type": "markdown",
   "metadata": {},
   "source": [
    "# Map display"
   ]
  },
  {
   "cell_type": "code",
   "execution_count": 13,
   "metadata": {},
   "outputs": [
    {
     "data": {
      "image/png": "[encoded data removed]",
      "text/plain": [
       "<Figure size 640x480 with 1 Axes>"
      ]
     },
     "metadata": {},
     "output_type": "display_data"
    }
   ],
   "source": [
    "client.get_vignette()"
   ]
  },
  {
   "cell_type": "code",
   "execution_count": null,
   "metadata": {},
   "outputs": [],
   "source": []
  }
 ],
 "metadata": {
  "kernelspec": {
   "display_name": "Python 3",
   "language": "python",
   "name": "python3"
  },
  "language_info": {
   "codemirror_mode": {
    "name": "ipython",
    "version": 3
   },
   "file_extension": ".py",
   "mimetype": "text/x-python",
   "name": "python",
   "nbconvert_exporter": "python",
   "pygments_lexer": "ipython3",
   "version": "3.9.18"
  },
  "toc": {
   "base_numbering": 1,
   "nav_menu": {},
   "number_sections": true,
   "sideBar": true,
   "skip_h1_title": false,
   "title_cell": "Table of Contents",
   "title_sidebar": "Contents",
   "toc_cell": false,
   "toc_position": {},
   "toc_section_display": true,
   "toc_window_display": false
  }
 },
 "nbformat": 4,
 "nbformat_minor": 5
}
